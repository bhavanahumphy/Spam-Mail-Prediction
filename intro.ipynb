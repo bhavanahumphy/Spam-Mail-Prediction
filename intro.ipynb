{
 "cells": [
  {
   "cell_type": "markdown",
   "id": "000a6ff1",
   "metadata": {},
   "source": [
    "# Spam Classification using Logistic Regression "
   ]
  },
  {
   "cell_type": "markdown",
   "id": "1d174379",
   "metadata": {},
   "source": [
    "# 1. Business Understanding"
   ]
  },
  {
   "cell_type": "markdown",
   "id": "4299a2c9",
   "metadata": {},
   "source": [
    "The purpose of this project is to develop a spam filter that can identify the probability that an email is spam. We converted the characteristics into numerical data so that we could use logistic regression on it. The filter's ability to provide probabilities allows it to classify emails as spam or not spam. This spam filter enables the email software to offer spam filtering to its users, improving their satisfaction and increasing the number of users of the email service, leading to higher revenue."
   ]
  },
  {
   "cell_type": "markdown",
   "id": "6114e49f",
   "metadata": {},
   "source": [
    "# 2. Data Understanding"
   ]
  },
  {
   "cell_type": "markdown",
   "id": "0aa1ddbe",
   "metadata": {},
   "source": [
    "Before using the data to build a model, it is important to evaluate its quality and identify any missing or irrelevant information. In this case, there are two categorical attributes that need to be converted into numerical data in order to be used in the model. Once these attributes are converted, a threshold is determined based on the quality of the data. Additionally, there is a time attribute that needs to be converted into a format that can be used in the model using the datetime library. After conducting the logistic regression, the p-values for the coefficients in the table can be examined. If the p-value is greater than 0.05, it means that the coefficient does not significantly affect the probability value."
   ]
  },
  {
   "cell_type": "markdown",
   "id": "d7f0a360",
   "metadata": {},
   "source": [
    "# 3. Data Preparation"
   ]
  },
  {
   "cell_type": "markdown",
   "id": "81a6a651",
   "metadata": {},
   "source": [
    "## Importing Libraries"
   ]
  },
  {
   "cell_type": "code",
   "execution_count": 44,
   "id": "ce9a81f8",
   "metadata": {},
   "outputs": [],
   "source": [
    "import math\n",
    "import numpy as np\n",
    "import pandas as pd\n",
    "import seaborn as sns\n",
    "from sqlite3 import connect\n",
    "import matplotlib.pyplot as plt\n",
    "import statsmodels.api as sm"
   ]
  },
  {
   "cell_type": "markdown",
   "id": "cd23dc68",
   "metadata": {},
   "source": [
    "## Retrieving the table from the SQLite database."
   ]
  },
  {
   "cell_type": "code",
   "execution_count": 45,
   "id": "354d0945",
   "metadata": {
    "scrolled": true
   },
   "outputs": [
    {
     "name": "stdout",
     "output_type": "stream",
     "text": [
      "             index         spam  to_multiple         from           cc  \\\n",
      "count  3921.000000  3921.000000  3921.000000  3921.000000  3921.000000   \n",
      "mean   1960.000000     0.093599     0.158123     0.999235     0.404489   \n",
      "std    1132.039531     0.291307     0.364903     0.027654     2.666424   \n",
      "min       0.000000     0.000000     0.000000     0.000000     0.000000   \n",
      "25%     980.000000     0.000000     0.000000     1.000000     0.000000   \n",
      "50%    1960.000000     0.000000     0.000000     1.000000     0.000000   \n",
      "75%    2940.000000     0.000000     0.000000     1.000000     0.000000   \n",
      "max    3920.000000     1.000000     1.000000     1.000000    68.000000   \n",
      "\n",
      "        sent_email        image       attach       dollar      inherit  \\\n",
      "count  3921.000000  3921.000000  3921.000000  3921.000000  3921.000000   \n",
      "mean      0.277990     0.048457     0.132874     1.467228     0.038001   \n",
      "std       0.448066     0.450848     0.718518     5.022298     0.267899   \n",
      "min       0.000000     0.000000     0.000000     0.000000     0.000000   \n",
      "25%       0.000000     0.000000     0.000000     0.000000     0.000000   \n",
      "50%       0.000000     0.000000     0.000000     0.000000     0.000000   \n",
      "75%       1.000000     0.000000     0.000000     0.000000     0.000000   \n",
      "max       1.000000    20.000000    21.000000    64.000000     9.000000   \n",
      "\n",
      "            viagra     password     num_char  line_breaks       format  \\\n",
      "count  3921.000000  3921.000000  3921.000000  3921.000000  3921.000000   \n",
      "mean      0.002040     0.108136    10.706586   230.658505     0.695231   \n",
      "std       0.127759     0.959931    14.645786   319.304959     0.460368   \n",
      "min       0.000000     0.000000     0.001000     1.000000     0.000000   \n",
      "25%       0.000000     0.000000     1.459000    34.000000     0.000000   \n",
      "50%       0.000000     0.000000     5.856000   119.000000     1.000000   \n",
      "75%       0.000000     0.000000    14.084000   298.000000     1.000000   \n",
      "max       8.000000    28.000000   190.087000  4022.000000     1.000000   \n",
      "\n",
      "           re_subj  exclaim_subj  urgent_subj  exclaim_mess  \n",
      "count  3921.000000   3921.000000  3921.000000   3921.000000  \n",
      "mean      0.261413      0.080337     0.001785      6.584290  \n",
      "std       0.439460      0.271848     0.042220     51.479871  \n",
      "min       0.000000      0.000000     0.000000      0.000000  \n",
      "25%       0.000000      0.000000     0.000000      0.000000  \n",
      "50%       0.000000      0.000000     0.000000      1.000000  \n",
      "75%       1.000000      0.000000     0.000000      4.000000  \n",
      "max       1.000000      1.000000     1.000000   1236.000000  \n"
     ]
    }
   ],
   "source": [
    "connection = connect(\"../../dataset/dataset.db\")\n",
    "query = \"SELECT * FROM \" + \"prj2\"\n",
    "df = pd.read_sql(query, connection)\n",
    "print(df.describe())"
   ]
  },
  {
   "cell_type": "markdown",
   "id": "9d601ca9",
   "metadata": {},
   "source": [
    "## Transforming the time attribute into numerical data using the datetime library."
   ]
  },
  {
   "cell_type": "code",
   "execution_count": 46,
   "id": "4002e275",
   "metadata": {},
   "outputs": [],
   "source": [
    "import datetime as dt\n",
    "df['time'] = pd.to_datetime(df['time'])\n",
    "df['time'] = df[\"time\"].map(dt.datetime.toordinal)"
   ]
  },
  {
   "cell_type": "code",
   "execution_count": 47,
   "id": "fbe5c084",
   "metadata": {},
   "outputs": [],
   "source": [
    "df = df.query(\"number != 'none'\")"
   ]
  },
  {
   "cell_type": "markdown",
   "id": "2471ad06",
   "metadata": {},
   "source": [
    "## Converting categorical data into numerical data using one-hot encoding."
   ]
  },
  {
   "cell_type": "code",
   "execution_count": 48,
   "id": "f03db726",
   "metadata": {},
   "outputs": [],
   "source": [
    "df['winner'] = pd.get_dummies(df['winner'])['yes']\n",
    "df['number'] = pd.get_dummies(df['number'])['big']"
   ]
  },
  {
   "cell_type": "markdown",
   "id": "933f0920",
   "metadata": {},
   "source": [
    "## Exploratory Data Analysis"
   ]
  },
  {
   "cell_type": "code",
   "execution_count": 49,
   "id": "4f2cd815",
   "metadata": {},
   "outputs": [
    {
     "name": "stderr",
     "output_type": "stream",
     "text": [
      "c:\\Users\\bnsap\\anaconda3\\lib\\site-packages\\seaborn\\_decorators.py:36: FutureWarning: Pass the following variable as a keyword arg: x. From version 0.12, the only valid positional argument will be `data`, and passing other arguments without an explicit keyword will result in an error or misinterpretation.\n",
      "  warnings.warn(\n"
     ]
    },
    {
     "data": {
      "text/plain": [
       "<Axes: xlabel='spam', ylabel='count'>"
      ]
     },
     "execution_count": 49,
     "metadata": {},
     "output_type": "execute_result"
    },
    {
     "data": {
      "image/png": "[encoded data removed]",
      "text/plain": [
       "<Figure size 640x480 with 1 Axes>"
      ]
     },
     "metadata": {},
     "output_type": "display_data"
    }
   ],
   "source": [
    "sns.countplot(df[\"spam\"])"
   ]
  },
  {
   "cell_type": "code",
   "execution_count": 50,
   "id": "78749b08",
   "metadata": {},
   "outputs": [
    {
     "data": {
      "text/plain": [
       "<Axes: title={'center': 'line_breaks'}, xlabel='winner'>"
      ]
     },
     "execution_count": 50,
     "metadata": {},
     "output_type": "execute_result"
    },
    {
     "data": {
      "image/png": "[encoded data removed]",
      "text/plain": [
       "<Figure size 800x800 with 1 Axes>"
      ]
     },
     "metadata": {},
     "output_type": "display_data"
    }
   ],
   "source": [
    "df.boxplot(column=['line_breaks'],by='winner',grid=False,figsize=(8,8),fontsize=20)"
   ]
  },
  {
   "cell_type": "code",
   "execution_count": 51,
   "id": "3a9e89e9",
   "metadata": {},
   "outputs": [
    {
     "data": {
      "image/png": "[encoded data removed]",
      "text/plain": [
       "<Figure size 640x480 with 1 Axes>"
      ]
     },
     "metadata": {},
     "output_type": "display_data"
    }
   ],
   "source": [
    "a= df[\"spam\"].value_counts(normalize=True).plot.pie()"
   ]
  },
  {
   "cell_type": "markdown",
   "id": "1e49125e",
   "metadata": {},
   "source": [
    "# 4. Logistic Regression Model"
   ]
  },
  {
   "cell_type": "markdown",
   "id": "235b17d7",
   "metadata": {},
   "source": [
    "## Dividing the dataset into a training set and a testing set."
   ]
  },
  {
   "cell_type": "code",
   "execution_count": 52,
   "id": "34f314d6",
   "metadata": {},
   "outputs": [
    {
     "name": "stdout",
     "output_type": "stream",
     "text": [
      "No. of training examples: 2698\n",
      "No. of testing examples: 674\n"
     ]
    }
   ],
   "source": [
    "test_data = df.sample(frac=0.2)\n",
    "train_data = df.drop(test_data.index)\n",
    "\n",
    "print(f\"No. of training examples: {train_data.shape[0]}\")\n",
    "print(f\"No. of testing examples: {test_data.shape[0]}\")"
   ]
  },
  {
   "cell_type": "markdown",
   "id": "3818442a",
   "metadata": {},
   "source": [
    "## Using the stats.model library to train the model."
   ]
  },
  {
   "cell_type": "code",
   "execution_count": 53,
   "id": "ccb5a8ae",
   "metadata": {},
   "outputs": [],
   "source": [
    "Xtrain = train_data[['to_multiple', 'from', 'cc', 'sent_email', 'time',\n",
    "       'image', 'attach', 'dollar', 'winner', 'inherit', 'viagra', 'password',\n",
    "       'num_char', 'line_breaks', 'format', 're_subj', 'exclaim_subj',\n",
    "       'urgent_subj', 'exclaim_mess', 'number']]\n",
    "ytrain = train_data[['spam']]\n",
    "\n",
    "log_reg = sm.GLM(ytrain.astype(float), Xtrain.astype(float), family = sm.families.Binomial(link = sm.families.links.logit())).fit()"
   ]
  },
  {
   "cell_type": "markdown",
   "id": "10f5ea42",
   "metadata": {},
   "source": [
    "## Vanilla code for Logistic regression (without using any libraries)"
   ]
  },
  {
   "cell_type": "markdown",
   "id": "2124a1f9",
   "metadata": {},
   "source": [
    "### Sigmoid function"
   ]
  },
  {
   "cell_type": "code",
   "execution_count": 12,
   "id": "828370d4",
   "metadata": {},
   "outputs": [],
   "source": [
    "def sigmoid(z):\n",
    "    return 1 / (1 + np.exp(-z))"
   ]
  },
  {
   "cell_type": "markdown",
   "id": "5f94fe61",
   "metadata": {},
   "source": [
    "### Prediction"
   ]
  },
  {
   "cell_type": "code",
   "execution_count": 13,
   "id": "ea1e11f6",
   "metadata": {},
   "outputs": [],
   "source": [
    "def predict(X, w):\n",
    "    z = np.dot(X, w[:-1,:]) + w[-1]\n",
    "    probs = sigmoid(z)\n",
    "        \n",
    "    # Return the class with the highest probability\n",
    "    return np.where(probs >= 0.5, 1, 0)"
   ]
  },
  {
   "cell_type": "markdown",
   "id": "fd159865",
   "metadata": {},
   "source": [
    "### Learning of the model using the gradient descent (learning rate = 0.01)"
   ]
  },
  {
   "cell_type": "code",
   "execution_count": 14,
   "id": "f2843323",
   "metadata": {},
   "outputs": [],
   "source": [
    "def fit(X, y, learning_rate=0.01, num_iterations=10000):\n",
    "    # Add a bias column to X\n",
    "    X = np.c_[np.ones((X.shape[0], 1)), X]\n",
    "    w = np.random.randn(X.shape[1], 1)\n",
    "\n",
    "    for i in range(num_iterations):\n",
    "        z = np.dot(X, w)\n",
    "        probs = sigmoid(z)\n",
    "        error = probs - y\n",
    "        \n",
    "        # Calculate the gradient of the error with respect to the weights\n",
    "        gradient = np.dot(X.T, error)\n",
    "        \n",
    "        # Update the weights using the gradient and the learning rate\n",
    "        w -= learning_rate * gradient\n",
    "    \n",
    "    return w"
   ]
  },
  {
   "cell_type": "code",
   "execution_count": 15,
   "id": "ac07a0a8",
   "metadata": {},
   "outputs": [
    {
     "name": "stderr",
     "output_type": "stream",
     "text": [
      "C:\\Users\\bnsap\\AppData\\Local\\Temp\\ipykernel_11028\\3196251242.py:2: RuntimeWarning: overflow encountered in exp\n",
      "  return 1 / (1 + np.exp(-z))\n"
     ]
    }
   ],
   "source": [
    "X = Xtrain.to_numpy()\n",
    "y = ytrain.to_numpy()\n",
    "w = fit(X, y)\n",
    "predictions = predict(X, w)"
   ]
  },
  {
   "cell_type": "markdown",
   "id": "e9c49b93",
   "metadata": {},
   "source": [
    "## Summary of model generated by stats.model"
   ]
  },
  {
   "cell_type": "code",
   "execution_count": 55,
   "id": "bad1ec7f",
   "metadata": {
    "scrolled": true
   },
   "outputs": [
    {
     "name": "stdout",
     "output_type": "stream",
     "text": [
      "                 Generalized Linear Model Regression Results                  \n",
      "==============================================================================\n",
      "Dep. Variable:                   spam   No. Observations:                 2698\n",
      "Model:                            GLM   Df Residuals:                     2678\n",
      "Model Family:                Binomial   Df Model:                           19\n",
      "Link Function:                  logit   Scale:                          1.0000\n",
      "Method:                          IRLS   Log-Likelihood:                -469.01\n",
      "Date:                Thu, 14 Sep 2023   Deviance:                       938.02\n",
      "Time:                        17:08:46   Pearson chi2:                 3.39e+03\n",
      "No. Iterations:                    26   Pseudo R-squ. (CS):             0.1328\n",
      "Covariance Type:            nonrobust                                         \n",
      "================================================================================\n",
      "                   coef    std err          z      P>|z|      [0.025      0.975]\n",
      "--------------------------------------------------------------------------------\n",
      "to_multiple     -3.7024      0.729     -5.078      0.000      -5.132      -2.273\n",
      "from          -925.7040   2326.983     -0.398      0.691   -5486.507    3635.099\n",
      "cc              -0.0114      0.054     -0.211      0.833      -0.117       0.094\n",
      "sent_email     -26.5907   1.55e+04     -0.002      0.999   -3.03e+04    3.03e+04\n",
      "time             0.0013      0.003      0.397      0.691      -0.005       0.007\n",
      "image           -1.8717      0.884     -2.118      0.034      -3.604      -0.140\n",
      "attach           0.6756      0.227      2.982      0.003       0.232       1.120\n",
      "dollar          -0.0728      0.035     -2.103      0.035      -0.141      -0.005\n",
      "winner           2.1805      0.477      4.571      0.000       1.246       3.115\n",
      "inherit          0.1931      0.177      1.093      0.275      -0.153       0.540\n",
      "viagra           3.6670   7.34e+04      5e-05      1.000   -1.44e+05    1.44e+05\n",
      "password        -0.4858      0.279     -1.738      0.082      -1.034       0.062\n",
      "num_char        -0.0146      0.038     -0.383      0.701      -0.089       0.060\n",
      "line_breaks     -0.0030      0.002     -1.652      0.098      -0.007       0.001\n",
      "format          -0.7135      0.208     -3.431      0.001      -1.121      -0.306\n",
      "re_subj         -2.0241      0.526     -3.846      0.000      -3.056      -0.993\n",
      "exclaim_subj     0.1083      0.317      0.342      0.733      -0.513       0.729\n",
      "urgent_subj      2.6611    4.1e+05   6.49e-06      1.000   -8.03e+05    8.03e+05\n",
      "exclaim_mess     0.0123      0.002      5.069      0.000       0.008       0.017\n",
      "number           0.8052      0.223      3.609      0.000       0.368       1.243\n",
      "================================================================================\n"
     ]
    }
   ],
   "source": [
    "print(log_reg.summary())"
   ]
  },
  {
   "cell_type": "markdown",
   "id": "ae2449e8",
   "metadata": {},
   "source": [
    "## Examining the coefficients and how they influence the output.\n",
    "\n",
    " Hypothesis testing for the coefficients:\n",
    "   $$ H_0 : \\beta_{coefficient} = 0 $$\n",
    "   $$ H_1 : \\beta_{coefficient} \\neq 0 $$\n",
    "\n",
    "In hypothesis testing for the coefficients of the model, the null hypothesis is that the coefficient has no effect on the output (i.e., it is equal to zero), while the alternative hypothesis is that the coefficient does have an effect on the output (i.e., it is not equal to zero). If the p-value of a coefficient is greater than 0.05, it means that there is not enough evidence to reject the null hypothesis, and therefore it can be concluded that the coefficient does not have a significant effect on the output. In the summary table, some of the coefficients have p-values greater than 0.05, indicating that they do not have a significant effect on the output of the model."
   ]
  },
  {
   "cell_type": "markdown",
   "id": "266f7402",
   "metadata": {},
   "source": [
    "## Evaluating the model using the test dataset."
   ]
  },
  {
   "cell_type": "markdown",
   "id": "80cedaeb",
   "metadata": {},
   "source": [
    "### predictions using stats model"
   ]
  },
  {
   "cell_type": "code",
   "execution_count": 17,
   "id": "cc1f1db7",
   "metadata": {},
   "outputs": [],
   "source": [
    "Xtest = test_data[['to_multiple', 'from', 'cc', 'sent_email', 'time',\n",
    "       'image', 'attach', 'dollar', 'winner', 'inherit', 'viagra', 'password',\n",
    "       'num_char', 'line_breaks', 'format', 're_subj', 'exclaim_subj',\n",
    "       'urgent_subj', 'exclaim_mess', 'number']]\n",
    "ytest = test_data['spam']\n",
    "\n",
    "yhat = log_reg.predict(Xtest)\n",
    "prediction = list(map(round, yhat))"
   ]
  },
  {
   "cell_type": "markdown",
   "id": "433aa43b",
   "metadata": {},
   "source": [
    "### predictions using vanilla code"
   ]
  },
  {
   "cell_type": "code",
   "execution_count": 18,
   "id": "eecc94c1",
   "metadata": {},
   "outputs": [
    {
     "name": "stderr",
     "output_type": "stream",
     "text": [
      "C:\\Users\\bnsap\\AppData\\Local\\Temp\\ipykernel_11028\\3196251242.py:2: RuntimeWarning: overflow encountered in exp\n",
      "  return 1 / (1 + np.exp(-z))\n"
     ]
    }
   ],
   "source": [
    "predictions = predict(Xtest.to_numpy(), w)"
   ]
  },
  {
   "cell_type": "markdown",
   "id": "ba861ede",
   "metadata": {},
   "source": [
    "# 5. Evaluation"
   ]
  },
  {
   "cell_type": "markdown",
   "id": "c2f1bea5",
   "metadata": {},
   "source": [
    "## 1. Calculating the confusion matrix for stats model"
   ]
  },
  {
   "cell_type": "code",
   "execution_count": 19,
   "id": "92407486",
   "metadata": {},
   "outputs": [],
   "source": [
    "cm = np.array([[0,0],[0,0]])\n",
    "for i,j in zip(ytest, prediction):\n",
    "    if i == j and i == 0:\n",
    "        cm[0][0] = cm[0][0] + 1\n",
    "    elif i == j and j == 1:\n",
    "        cm[1][1] = cm[1][1] + 1\n",
    "    elif i != j and i == 0:\n",
    "        cm[0][1] = cm[0][1] + 1\n",
    "    else:\n",
    "        cm[1][0] = cm[1][0] + 1"
   ]
  },
  {
   "cell_type": "code",
   "execution_count": 20,
   "id": "95bddd15",
   "metadata": {},
   "outputs": [
    {
     "data": {
      "text/plain": [
       "array([[625,   2],\n",
       "       [ 40,   7]])"
      ]
     },
     "execution_count": 20,
     "metadata": {},
     "output_type": "execute_result"
    }
   ],
   "source": [
    "cm"
   ]
  },
  {
   "cell_type": "code",
   "execution_count": 21,
   "id": "ceaebfed",
   "metadata": {},
   "outputs": [],
   "source": [
    "TP = cm[1][1]\n",
    "TN = cm[0][0]\n",
    "FP = cm[0][1]\n",
    "FN = cm[1][0]"
   ]
  },
  {
   "cell_type": "markdown",
   "id": "ca27fbae",
   "metadata": {},
   "source": [
    "## Accuracy"
   ]
  },
  {
   "cell_type": "code",
   "execution_count": 22,
   "id": "c8ec517a",
   "metadata": {},
   "outputs": [],
   "source": [
    "accuracy = (TP + TN)/(TP + TN + FP + FN)"
   ]
  },
  {
   "cell_type": "code",
   "execution_count": 23,
   "id": "9450f785",
   "metadata": {},
   "outputs": [
    {
     "data": {
      "text/plain": [
       "0.9376854599406528"
      ]
     },
     "execution_count": 23,
     "metadata": {},
     "output_type": "execute_result"
    }
   ],
   "source": [
    "accuracy"
   ]
  },
  {
   "cell_type": "markdown",
   "id": "600f3db7",
   "metadata": {},
   "source": [
    "## Sensitivity"
   ]
  },
  {
   "cell_type": "code",
   "execution_count": 24,
   "id": "25601d29",
   "metadata": {},
   "outputs": [],
   "source": [
    "sensitivity = TP/(TP + FN)"
   ]
  },
  {
   "cell_type": "code",
   "execution_count": 25,
   "id": "7f5946c9",
   "metadata": {},
   "outputs": [
    {
     "data": {
      "text/plain": [
       "0.14893617021276595"
      ]
     },
     "execution_count": 25,
     "metadata": {},
     "output_type": "execute_result"
    }
   ],
   "source": [
    "sensitivity"
   ]
  },
  {
   "cell_type": "markdown",
   "id": "310457df",
   "metadata": {},
   "source": [
    "## Specificity"
   ]
  },
  {
   "cell_type": "code",
   "execution_count": 26,
   "id": "39e1baa1",
   "metadata": {},
   "outputs": [],
   "source": [
    "specificity = TN/(TN + FP)"
   ]
  },
  {
   "cell_type": "code",
   "execution_count": 27,
   "id": "e9e1b728",
   "metadata": {},
   "outputs": [
    {
     "data": {
      "text/plain": [
       "0.9968102073365231"
      ]
     },
     "execution_count": 27,
     "metadata": {},
     "output_type": "execute_result"
    }
   ],
   "source": [
    "specificity"
   ]
  },
  {
   "cell_type": "markdown",
   "id": "43734f96",
   "metadata": {},
   "source": [
    "## Precision"
   ]
  },
  {
   "cell_type": "code",
   "execution_count": 28,
   "id": "42d92117",
   "metadata": {},
   "outputs": [],
   "source": [
    "Precision = TP/(TP + FP)"
   ]
  },
  {
   "cell_type": "code",
   "execution_count": 29,
   "id": "150ee5a6",
   "metadata": {},
   "outputs": [
    {
     "data": {
      "text/plain": [
       "0.7777777777777778"
      ]
     },
     "execution_count": 29,
     "metadata": {},
     "output_type": "execute_result"
    }
   ],
   "source": [
    "Precision"
   ]
  },
  {
   "cell_type": "markdown",
   "id": "5bb4f27b",
   "metadata": {},
   "source": [
    "## 2. Calculating the confusion matrix vanilla code"
   ]
  },
  {
   "cell_type": "code",
   "execution_count": 30,
   "id": "ed1b7838",
   "metadata": {},
   "outputs": [],
   "source": [
    "cm = np.array([[0,0],[0,0]])\n",
    "for i,j in zip(predictions, ytest):\n",
    "    if i == j and i == 0:\n",
    "        cm[0][0] = cm[0][0] + 1\n",
    "    elif i == j and j == 1:\n",
    "        cm[1][1] = cm[1][1] + 1\n",
    "    elif i != j and i == 0:\n",
    "        cm[0][1] = cm[0][1] + 1\n",
    "    else:\n",
    "        cm[1][0] = cm[1][0] + 1"
   ]
  },
  {
   "cell_type": "code",
   "execution_count": 31,
   "id": "118367b3",
   "metadata": {},
   "outputs": [],
   "source": [
    "TP = cm[1][1]\n",
    "TN = cm[0][0]\n",
    "FP = cm[0][1]\n",
    "FN = cm[1][0]"
   ]
  },
  {
   "cell_type": "code",
   "execution_count": 32,
   "id": "aa8fe2e5",
   "metadata": {},
   "outputs": [],
   "source": [
    "accuracy = (TP + TN)/(TP + TN + FP + FN)"
   ]
  },
  {
   "cell_type": "code",
   "execution_count": 33,
   "id": "f8e46058",
   "metadata": {},
   "outputs": [
    {
     "data": {
      "text/plain": [
       "array([[627,  47],\n",
       "       [  0,   0]])"
      ]
     },
     "execution_count": 33,
     "metadata": {},
     "output_type": "execute_result"
    }
   ],
   "source": [
    "cm"
   ]
  },
  {
   "cell_type": "code",
   "execution_count": 57,
   "id": "8515fc31",
   "metadata": {},
   "outputs": [
    {
     "data": {
      "text/plain": [
       "0.9243323442136498"
      ]
     },
     "execution_count": 57,
     "metadata": {},
     "output_type": "execute_result"
    }
   ],
   "source": [
    "accuracy"
   ]
  },
  {
   "cell_type": "markdown",
   "id": "879e61f4",
   "metadata": {},
   "source": [
    "# Conclusion"
   ]
  },
  {
   "cell_type": "markdown",
   "id": "276f5fdb",
   "metadata": {},
   "source": [
    "In this model, a threshold of 0.5 or 50% is used to predict whether a given email is spam or not. The accuracy of the model is approximately 93%, which may vary slightly due to the random division of the dataset. This model has a specificity of 99.51%, meaning it is very accurate at correctly identifying negative examples (emails that are not spam). Based on these results, it can be concluded that the logistic regression model is effective at classifying whether a given email is spam or not."
   ]
  }
 ],
 "metadata": {
  "kernelspec": {
   "display_name": "Python 3 (ipykernel)",
   "language": "python",
   "name": "python3"
  },
  "language_info": {
   "codemirror_mode": {
    "name": "ipython",
    "version": 3
   },
   "file_extension": ".py",
   "mimetype": "text/x-python",
   "name": "python",
   "nbconvert_exporter": "python",
   "pygments_lexer": "ipython3",
   "version": "3.9.13"
  }
 },
 "nbformat": 4,
 "nbformat_minor": 5
}
